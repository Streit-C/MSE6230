{
  "nbformat": 4,
  "nbformat_minor": 0,
  "metadata": {
    "colab": {
      "provenance": [],
      "authorship_tag": "ABX9TyNEWc+QDSIjMl50wZSuqGba",
      "include_colab_link": true
    },
    "kernelspec": {
      "name": "python3",
      "display_name": "Python 3"
    },
    "language_info": {
      "name": "python"
    }
  },
  "cells": [
    {
      "cell_type": "markdown",
      "metadata": {
        "id": "view-in-github",
        "colab_type": "text"
      },
      "source": [
        "<a href=\"https://colab.research.google.com/github/Streit-C/MSE6230/blob/main/MonteCarlo.ipynb\" target=\"_parent\"><img src=\"https://colab.research.google.com/assets/colab-badge.svg\" alt=\"Open In Colab\"/></a>"
      ]
    },
    {
      "cell_type": "markdown",
      "source": [
        "Preamble: Run the cells below to import the necessary Python packages. Answer each question below in a separate document (Word, Google Docs, etc.) for submission. Make sure to copy the images you generate into this document."
      ],
      "metadata": {
        "id": "I2RphQ_pg4EI"
      }
    },
    {
      "cell_type": "code",
      "execution_count": null,
      "metadata": {
        "id": "B1GcSM0agxSf"
      },
      "outputs": [],
      "source": [
        "import numpy as np\n",
        "import matplotlib.pyplot as plt"
      ]
    },
    {
      "cell_type": "markdown",
      "source": [
        "# Part 1: Introduction to Monte Carlo Simulations via Random Walks"
      ],
      "metadata": {
        "id": "Drx7SARLjEfi"
      }
    },
    {
      "cell_type": "markdown",
      "source": [
        "This section introduces the fundamental concepts of Monte Carlo (MC) simulations through the example of a random walk. You will run and analyze provided Python code to build intuition about stochastic processes and statistical properties that underpin more complex MC methods used in statistical mechanics.\n",
        "\n",
        "A random walk is a mathematical model describing a path consisting of a sequence of random steps. In a 1D random walk, a particle moves either one step to the right (+1) or one step to the left (−1) with equal probability at each time step. Over many steps, the particle’s position evolves randomly, and meaningful statistical properties can be analyzed."
      ],
      "metadata": {
        "id": "4Fug9irujPyp"
      }
    },
    {
      "cell_type": "markdown",
      "source": [
        "---\n",
        "\n",
        "\n",
        "Let's plot 10 1D random walks of 1000 steps each."
      ],
      "metadata": {
        "id": "ihcu7yTBmBQA"
      }
    },
    {
      "cell_type": "code",
      "source": [
        "def random_walk_1d(n_steps):\n",
        "    steps = np.random.choice([-1, 1], size=n_steps)\n",
        "    position = np.cumsum(steps)\n",
        "    return position\n",
        "\n",
        "plt.figure(figsize=(10,6))\n",
        "n_steps = 1000\n",
        "\n",
        "for _ in range(10):\n",
        "    pos = random_walk_1d(1000)\n",
        "    plt.plot(pos, alpha=0.6)\n",
        "plt.title(\"Ten 1D Random Walks (1000 steps each)\")\n",
        "plt.xlabel(\"Step number\")\n",
        "plt.ylabel(\"Position\")\n",
        "plt.grid(True)\n",
        "plt.show()"
      ],
      "metadata": {
        "id": "orz0duJOhGCc",
        "collapsed": true
      },
      "execution_count": null,
      "outputs": []
    },
    {
      "cell_type": "markdown",
      "source": [
        "**Question 1**: Describe the main features of the random walk trajectories. What do you notice about the spread of the paths as the number of steps increases?"
      ],
      "metadata": {
        "id": "YEUJFePvkTud"
      }
    },
    {
      "cell_type": "markdown",
      "source": [
        "---\n",
        "\n",
        "Now, let's look at the distribution of final positions for 10,000 different random walks."
      ],
      "metadata": {
        "id": "D-g6E3C0mKc9"
      }
    },
    {
      "cell_type": "code",
      "source": [
        "n_walks = 10000\n",
        "final_positions = np.array([random_walk_1d(n_steps)[-1] for _ in range(n_walks)])\n",
        "\n",
        "plt.figure(figsize=(8,5))\n",
        "plt.hist(final_positions, bins=50, density=True, alpha=0.7, color='c')\n",
        "plt.title(\"Distribution of Final Positions After 1000 Steps\")\n",
        "plt.xlabel(\"Final Position\")\n",
        "plt.ylabel(\"Probability Density\")\n",
        "plt.grid(True)\n",
        "plt.show()"
      ],
      "metadata": {
        "id": "6IFSpD6wkS9j"
      },
      "execution_count": null,
      "outputs": []
    },
    {
      "cell_type": "markdown",
      "source": [
        "**Question 2**: What is the shape of the distribution of final positions? How does this relate to the Central Limit Theorem?"
      ],
      "metadata": {
        "id": "9iLWCOxplGJ-"
      }
    },
    {
      "cell_type": "markdown",
      "source": [
        "---\n",
        "\n",
        "Plot the mean squared displacement (MSD), defined as:\n",
        "\n",
        "$MSD(n)=⟨(x_n−x_0)^2⟩$\n",
        "\n",
        "as a function of the number of steps n. Here, $x_0=0$ is the starting position."
      ],
      "metadata": {
        "id": "90oFu1Kgmnyn"
      }
    },
    {
      "cell_type": "code",
      "source": [
        "max_steps = 1000\n",
        "msd = np.zeros(max_steps)\n",
        "for step in range(1, max_steps+1):\n",
        "    positions = np.array([random_walk_1d(step)[-1] for _ in range(1000)])\n",
        "    msd[step-1] = np.mean(positions**2)\n",
        "\n",
        "plt.figure(figsize=(8,5))\n",
        "plt.plot(range(1, max_steps+1), msd, label=\"Simulated MSD\")\n",
        "plt.plot(range(1, max_steps+1), range(1, max_steps+1), 'r--', label=\"Theoretical MSD (linear)\")\n",
        "plt.title(\"Mean Squared Displacement vs Number of Steps\")\n",
        "plt.xlabel(\"Number of Steps\")\n",
        "plt.ylabel(\"Mean Squared Displacement\")\n",
        "plt.legend()\n",
        "plt.grid(True)\n",
        "plt.show()"
      ],
      "metadata": {
        "id": "Ivatf2RYlSLR"
      },
      "execution_count": null,
      "outputs": []
    },
    {
      "cell_type": "markdown",
      "source": [
        "**Question 3**: How does the MSD grow as the number of steps increases? Is this consistent with theoretical expectations for a random walk?"
      ],
      "metadata": {
        "id": "YNYjGnaZnr07"
      }
    },
    {
      "cell_type": "markdown",
      "source": [
        "# Part 2: The Metropolis Algorithm and Grain Boundary Stability"
      ],
      "metadata": {
        "id": "osolT2eP1_re"
      }
    },
    {
      "cell_type": "markdown",
      "source": [
        "This section introduces the Metropolis Monte Carlo algorithm and its application to modeling grain boundary stability in metal alloys. You will use provided Python code to simulate a simplified 2D lattice model, analyze how grain boundaries evolve, and interpret the results in the context of thermodynamics and materials science.\n",
        "\n",
        "Grain boundaries are interfaces between different crystalline orientations in polycrystalline metals. Their stability affects material properties such as mechanical response. In this section, we use a lattice model (similar to the Ising model) to represent grains: each site on a 2D grid has a \"grain orientation\" (an integer label). The \"energy\" of the system increases when neighboring sites have different orientations, analogous to the energy cost of grain boundaries.\n",
        "\n",
        "The Metropolis algorithm is a Monte Carlo method for simulating the equilibrium properties of such systems. It works by proposing random changes to the system and accepting or rejecting them based on the change in energy and the system temperature, allowing the model to explore states according to the Boltzmann distribution. A basic outline is as follows:\n",
        "\n",
        "\n",
        "\n",
        "*   Randomly select a site.\n",
        "*   Propose changing its orientation.\n",
        "*   Calculate the change in system energy ($ΔE$).\n",
        "*   Accept or reject the change based on the Metropolis criterion:\n",
        "  \n",
        "   $P(accept)=\n",
        "   \\begin{cases}\n",
        "    1 \\text{,} \\ \\text{if} \\ ΔE≤0 \\\\\n",
        "    \\text{exp}⁡(−ΔE/kT) \\text{,} \\ \\text{if} \\ ΔE>0\n",
        "   \\end{cases}\n",
        "   $\n",
        "*   Repeat for many steps to observe evolution toward equilibrium.\n"
      ],
      "metadata": {
        "id": "bGY5RbYe2WuY"
      }
    },
    {
      "cell_type": "markdown",
      "source": [
        "---\n",
        "\n",
        "Let's start by generating a random seed tied to your UVA computing ID. Change seed_string below to be your UVA computing ID. Note that randomizer seeds will advance after being used, so if you want to re-run any of the code, restart from the section where your randomizer seed is generated."
      ],
      "metadata": {
        "id": "2Z84ELRV53Y4"
      }
    },
    {
      "cell_type": "code",
      "source": [
        "def string_to_seed(s, default_value=\"UVA\"):\n",
        "    \"\"\"Convert a string to a reproducible integer seed.\"\"\"\n",
        "    if s == default_value:\n",
        "        raise ValueError(\n",
        "            f\"Error: seed string is set to the default value '{default_value}'. \"\n",
        "            \"Please change it to your unique identifier (e.g., your computing ID).\"\n",
        "        )\n",
        "    return abs(hash(s)) % (2**32)\n",
        "\n",
        "seed_string = \"UVA\"  # Replace with your computing ID\n",
        "seed = string_to_seed(seed_string)\n",
        "rng = np.random.default_rng(seed)"
      ],
      "metadata": {
        "id": "NiBMctobstO3"
      },
      "execution_count": null,
      "outputs": []
    },
    {
      "cell_type": "markdown",
      "source": [
        "---\n",
        "\n",
        "Generate your initial lattice below. Note the initial lattice size (L = 50) and the number of unique grain orientations (n = 5)."
      ],
      "metadata": {
        "id": "-5Uk4hEp7g6x"
      }
    },
    {
      "cell_type": "code",
      "source": [
        "# Parameters\n",
        "L = 50  # Lattice size (LxL)\n",
        "n_orient = 5  # Number of grain orientations\n",
        "k_B = 1.380649e-23  # Boltzmann constant in J/K\n",
        "\n",
        "# Initialize lattice with random orientations\n",
        "lattice = rng.integers(0, n_orient, size=(L, L))\n",
        "\n",
        "def plot_lattice(lattice, title=\"\"):\n",
        "    plt.figure(figsize=(6,6))\n",
        "    plt.imshow(lattice, cmap='tab20', interpolation='nearest')\n",
        "    plt.title(title)\n",
        "    plt.axis('off')\n",
        "    plt.show()\n",
        "\n",
        "plot_lattice(lattice, title=\"Initial Grain Orientation Configuration\")\n"
      ],
      "metadata": {
        "id": "FbljUPk6n30T"
      },
      "execution_count": null,
      "outputs": []
    },
    {
      "cell_type": "markdown",
      "source": [
        "---\n",
        "\n",
        "Run the code below to perform the Monte Carlo simulation using the Metropolis algorithm and visualize the evolution. This code will likely take over a minute to finish."
      ],
      "metadata": {
        "id": "1UtHcJ6G_3hM"
      }
    },
    {
      "cell_type": "code",
      "source": [
        "def energy_site(lattice, i, j):\n",
        "    # Periodic boundary conditions\n",
        "    L = lattice.shape[0]\n",
        "    s = lattice[i, j]\n",
        "    neighbors = [\n",
        "        lattice[(i+1)%L, j],\n",
        "        lattice[(i-1)%L, j],\n",
        "        lattice[i, (j+1)%L],\n",
        "        lattice[i, (j-1)%L]\n",
        "    ]\n",
        "    # Energy: +1 for each unlike neighbor\n",
        "    return sum([1 for n in neighbors if n != s])\n",
        "\n",
        "def metropolis_step(lattice, T, rng):\n",
        "    L = lattice.shape[0]\n",
        "    for _ in range(L*L):\n",
        "        i, j = rng.integers(0, L, size=2)\n",
        "        current = lattice[i, j]\n",
        "        proposal = rng.choice([x for x in range(n_orient) if x != current])\n",
        "        dE = 0\n",
        "        for di, dj in [(-1,0),(1,0),(0,-1),(0,1)]:\n",
        "            ni, nj = (i+di)%L, (j+dj)%L\n",
        "            if lattice[ni, nj] != current:\n",
        "                dE -= 1\n",
        "            if lattice[ni, nj] != proposal:\n",
        "                dE += 1\n",
        "        dE_joules = dE * E_0\n",
        "        if dE <= 0 or rng.random() < np.exp(-dE_joules / (k_B * T)):\n",
        "            lattice[i, j] = proposal\n",
        "    return lattice\n",
        "\n",
        "def grain_boundary_fraction(lattice):\n",
        "    L = lattice.shape[0]\n",
        "    gb_sites = 0\n",
        "    for i in range(L):\n",
        "        for j in range(L):\n",
        "            s = lattice[i, j]\n",
        "            for di, dj in [(-1,0),(1,0),(0,-1),(0,1)]:\n",
        "                ni, nj = (i+di)%L, (j+dj)%L\n",
        "                if lattice[ni, nj] != s:\n",
        "                    gb_sites += 1\n",
        "    # Each boundary counted twice (once from each side)\n",
        "    return gb_sites / (4*L*L)\n",
        "\n",
        "# Simulation parameters\n",
        "T = 300.0  # \"Temperature in Kelvin\"\n",
        "n_steps = 1000\n",
        "E_0 = 5e-20  # Joules per site (This is included because I want to use actual values for T.\n",
        "             # If this weren't included, the boltzman constant dominates and temperature changes are meaningless.)\n",
        "\n",
        "# Run simulation and visualize\n",
        "lattice_sim = lattice.copy()\n",
        "gb_fractions = []\n",
        "\n",
        "for step in range(n_steps):\n",
        "    lattice_sim = metropolis_step(lattice_sim, T, rng)\n",
        "    gb_fractions.append(grain_boundary_fraction(lattice_sim))\n",
        "    if step in [0, 1, 9, 49, 99, 499, 999]:\n",
        "        plot_lattice(lattice_sim, title=f\"After {step+1} MC Steps\")"
      ],
      "metadata": {
        "id": "lXXJc5FipFsQ"
      },
      "execution_count": null,
      "outputs": []
    },
    {
      "cell_type": "markdown",
      "source": [
        "**Question 4**: How does the grain structure change as the simulation progresses? What is happening to the grain boundaries?\n"
      ],
      "metadata": {
        "id": "5SmunVDBAv36"
      }
    },
    {
      "cell_type": "markdown",
      "source": [
        "---\n",
        "\n",
        "Now, let's plot the fraction of sites that are on a grain boundary as a function of Monte Carlo steps."
      ],
      "metadata": {
        "id": "dfi3mQR2BrWa"
      }
    },
    {
      "cell_type": "code",
      "source": [
        "# Plot grain boundary fraction\n",
        "plt.figure(figsize=(7,5))\n",
        "plt.plot(range(1, n_steps+1), gb_fractions)\n",
        "plt.xlabel(\"Monte Carlo Steps\")\n",
        "plt.ylabel(\"Grain Boundary Fraction\")\n",
        "plt.title(\"Evolution of Grain Boundary Fraction\")\n",
        "plt.grid(True)\n",
        "plt.show()"
      ],
      "metadata": {
        "id": "AM1c-9bMpcK1"
      },
      "execution_count": null,
      "outputs": []
    },
    {
      "cell_type": "markdown",
      "source": [
        "**Question 5**: How does the grain boundary fraction change over time? What does this indicate about the system's evolution? Can we interpret anything physically meaningful from the intermediate Monte Carlo steps (i.e., at 200, 400, 600, etc. steps)?"
      ],
      "metadata": {
        "id": "Ju6nxXy0COyq"
      }
    },
    {
      "cell_type": "markdown",
      "source": [
        "---\n",
        "\n",
        "What happens when we change temperature? Go back into the code above (save your images and figures before you do), re-run the simulation at two additional temperatures, **100** and **1000 K**, and observe how the grain structure and grain boundary fraction evolve."
      ],
      "metadata": {
        "id": "yMzuB-4PC1qL"
      }
    },
    {
      "cell_type": "markdown",
      "source": [
        "**Question 6**: How does temperature affect the final grain structure and the grain boundary fraction? Relate this to the concept of thermal fluctuations and energy minimization."
      ],
      "metadata": {
        "id": "4mTEy65rFH77"
      }
    },
    {
      "cell_type": "markdown",
      "source": [
        "# Part 3: Thermodynamic Stabilization of Grain Boundaries Through Monte Carlo"
      ],
      "metadata": {
        "id": "yxI4j4IshWT-"
      }
    },
    {
      "cell_type": "markdown",
      "source": [
        "In this portion of the assignment, you will explore a more realistic statistical mechanics model of nanocrystalline alloys, motivated by the thermodynamic stabilization framework developed by Schuh (https://www.science.org/doi/10.1126/science.1224737). Unlike the simpler models in the earlier parts, this simulation incorporates three key thermodynamic contributions that determine whether a fine-grained structure can be stabilized:\n",
        "\n",
        "\n",
        "1.    **Grain Growth Energetics**\n",
        "\n",
        "      Grain boundary energy drives coarsening: larger grains decrease the total boundary area and reduce the system’s energy. In our model, this is represented by a cost for unlike neighboring grain orientations.\n",
        "\n",
        "2.    **Solute Segregation**\n",
        "\n",
        "      Solute atoms have an energetic preference for occupying grain boundary sites. A negative segregation energy (ΔH_{seg}) lowers the system’s free energy by “pinning” grain boundaries and reducing their effective mobility.\n",
        "\n",
        "3.    **Mixing Enthalpy**\n",
        "\n",
        "      Solute and solvent atoms may energetically prefer mixing or demixing. A positive mixing enthalpy (ΔH_{mix}) promotes segregation of solute into certain regions (and sometimes phase separation), while a negative value favors a homogeneous solid solution.\n",
        "\n",
        "Using Monte Carlo sweeps, our simulation alternates between grain growth moves (a lattice site adopting a neighbor’s orientation) and solute swap moves (solute and solvent atoms exchanging positions). Each attempted change is accepted or rejected based on the Metropolis criterion, ensuring that the system evolves toward thermodynamic equilibrium while retaining the effects of thermal fluctuations."
      ],
      "metadata": {
        "id": "K9CpFYUPhjHF"
      }
    },
    {
      "cell_type": "markdown",
      "source": [
        "\n",
        "\n",
        "---\n",
        "\n",
        "This first section of code contains all of our simulations parameters. Feel free to change Hseg_kJmol, Hmix_kJmol, and T as needed (positive to negative, increase, decrease values)."
      ],
      "metadata": {
        "id": "UYFaaMpCr2r7"
      }
    },
    {
      "cell_type": "code",
      "source": [
        "from scipy import ndimage\n",
        "\n",
        "# === Conversion Utility ===\n",
        "def kJmol_to_J(H_kJmol):\n",
        "    \"\"\"Convert kJ/mol to J per entity (atom or bond).\"\"\"\n",
        "    N_A = 6.02214076e23  # Avogadro's number\n",
        "    return (H_kJmol * 1000.0) / N_A\n",
        "\n",
        "\n",
        "# === Simulation Parameters (user: kJ/mol) ===\n",
        "L = 60                   # Lattice size\n",
        "n_orient = 8             # Number of grain orientations\n",
        "X_B = 0.40               # Bulk solute concentration\n",
        "\n",
        "gamma_gb_kJmol = 30.0   # GB energy per GB site (kJ/mol)\n",
        "Hseg_kJmol = -50.0        # Segregation enthalpy (kJ/mol)\n",
        "Hmix_kJmol = 50.0         # Mixing enthalpy per unlike neighbor pair at GB (kJ/mol)\n",
        "T = 300                  # Temperature in K\n",
        "k_B = 1.380649e-23       # Boltzmann constant (J/K)\n",
        "rng = np.random.default_rng(2025)  # RNG seed\n",
        "\n",
        "# === Convert to per-site or per-pair energies in Joules ===\n",
        "gamma_gb = kJmol_to_J(gamma_gb_kJmol)\n",
        "E_seg = kJmol_to_J(Hseg_kJmol)\n",
        "J_mix = kJmol_to_J(Hmix_kJmol)\n",
        "\n",
        "params = dict(\n",
        "    gamma_gb=gamma_gb,\n",
        "    E_seg=E_seg,\n",
        "    J_mix=J_mix,\n",
        "    k_B=k_B,\n",
        "    T=T\n",
        ")\n"
      ],
      "metadata": {
        "id": "1CTfNC7LNvsp"
      },
      "execution_count": null,
      "outputs": []
    },
    {
      "cell_type": "markdown",
      "source": [
        "This is the Python class responsible for generating the lattice."
      ],
      "metadata": {
        "id": "jEXL-QhMrj6C"
      }
    },
    {
      "cell_type": "code",
      "source": [
        "class PolycrystalLattice:\n",
        "    def __init__(self, L, n_orient, X_B, rng):\n",
        "        self.L = L\n",
        "        self.n_orient = n_orient\n",
        "        self.rng = rng\n",
        "        self.grains = rng.integers(0, n_orient, size=(L, L))\n",
        "        self.is_solute = np.zeros((L, L), dtype=bool)\n",
        "        solute_indices = rng.choice(L*L, int(X_B*L*L), replace=False)\n",
        "        self.is_solute.flat[solute_indices] = True\n",
        "\n",
        "    def neighbors(self, i, j):\n",
        "        L = self.L\n",
        "        return [((i+1)%L, j), ((i-1)%L, j), (i, (j+1)%L), (i, (j-1)%L)]\n",
        "\n",
        "    def is_boundary(self, i, j):\n",
        "        s = self.grains[i, j]\n",
        "        return any(self.grains[ni, nj] != s for ni, nj in self.neighbors(i, j))\n",
        "\n",
        "    def site_energy(self, i, j, params):\n",
        "        E = 0.0\n",
        "        if self.is_boundary(i, j):\n",
        "            E += params['gamma_gb']\n",
        "            if self.is_solute[i, j]:\n",
        "                E += params['E_seg']\n",
        "            # Mixing enthalpy only between GB neighbors\n",
        "            species = self.is_solute[i, j]\n",
        "            for ni, nj in self.neighbors(i, j):\n",
        "                if self.is_boundary(ni, nj) and self.is_solute[ni, nj] != species:\n",
        "                    E += 0.5 * params['J_mix']  # Half to avoid overcounting\n",
        "        return E\n",
        "\n",
        "    def total_energy(self, params):\n",
        "        E = 0.0\n",
        "        for i in range(self.L):\n",
        "            for j in range(self.L):\n",
        "                E += self.site_energy(i, j, params)\n",
        "        return E\n",
        "\n",
        "    def grain_boundary_fraction(self):\n",
        "        gb_sites = sum(self.is_boundary(i, j) for i in range(self.L) for j in range(self.L))\n",
        "        return gb_sites / (self.L * self.L)\n",
        "\n",
        "    def solute_gb_fraction(self):\n",
        "        gb_solute = 0\n",
        "        total_solute = np.sum(self.is_solute)\n",
        "        for i in range(self.L):\n",
        "            for j in range(self.L):\n",
        "                if self.is_solute[i, j] and self.is_boundary(i, j):\n",
        "                    gb_solute += 1\n",
        "        return gb_solute / total_solute if total_solute > 0 else 0\n",
        "\n",
        "    def average_grain_size(self):\n",
        "        labels, n_grains = ndimage.label(self.grains)\n",
        "        sizes = ndimage.sum(np.ones_like(self.grains), labels, range(1, n_grains+1))\n",
        "        return np.mean(sizes) if n_grains > 0 else 0\n",
        "\n",
        "    def plot_grains(self, title=\"Grains\", ax=None):\n",
        "        if ax is None:\n",
        "            fig, ax = plt.subplots(figsize=(6, 6))\n",
        "        ax.imshow(self.grains, cmap='tab20', interpolation='nearest')\n",
        "        ax.set_title(title)\n",
        "        ax.axis('off')\n",
        "        if ax is None:\n",
        "            plt.show()\n",
        "\n",
        "    def plot_solute(self, title=\"Solute Distribution\", ax=None):\n",
        "        if ax is None:\n",
        "            fig, ax = plt.subplots(figsize=(6, 6))\n",
        "        ax.imshow(self.is_solute, cmap='coolwarm', interpolation='nearest')\n",
        "        ax.set_title(title)\n",
        "        ax.axis('off')\n",
        "        if ax is None:\n",
        "            plt.show()\n",
        "\n",
        "    def plot_overlay(self, title=\"Grains + Solute Overlay\", ax=None):\n",
        "        if ax is None:\n",
        "            fig, ax = plt.subplots(figsize=(6, 6))\n",
        "        ax.imshow(self.grains, cmap='tab20', interpolation='nearest', alpha=0.8)\n",
        "        ax.imshow(np.where(self.is_solute, 1, np.nan), cmap='cool', interpolation='nearest', alpha=0.5)\n",
        "        ax.set_title(title)\n",
        "        ax.axis('off')\n",
        "        if ax is None:\n",
        "            plt.show()\n"
      ],
      "metadata": {
        "id": "4IbZOPw_N2o8"
      },
      "execution_count": null,
      "outputs": []
    },
    {
      "cell_type": "markdown",
      "source": [
        "This is the Python class that contains all the code for running the Monte Carlo simulation."
      ],
      "metadata": {
        "id": "gH15yENdrtr_"
      }
    },
    {
      "cell_type": "code",
      "source": [
        "class GrainBoundaryMC:\n",
        "    def __init__(self, lattice, params, rng, move_probs=(0.5, 0.5)):\n",
        "        self.lattice = lattice\n",
        "        self.params = params\n",
        "        self.rng = rng\n",
        "        self.move_probs = move_probs  # (grain growth, solute swap)\n",
        "\n",
        "    def mc_sweep(self):\n",
        "        L = self.lattice.L\n",
        "        for _ in range(L * L):\n",
        "            move_type = self.rng.choice(['grain', 'solute'], p=self.move_probs)\n",
        "            if move_type == 'grain':\n",
        "                self.grain_growth_move()\n",
        "            else:\n",
        "                self.solute_swap_move()\n",
        "\n",
        "    def grain_growth_move(self):\n",
        "        i, j = self.rng.integers(0, self.lattice.L, size=2)\n",
        "        s_old = self.lattice.grains[i, j]\n",
        "        neighbors = self.lattice.neighbors(i, j)\n",
        "        ni, nj = neighbors[self.rng.integers(0, 4)]\n",
        "        s_new = self.lattice.grains[ni, nj]\n",
        "        if s_new == s_old:\n",
        "            return\n",
        "        E_before = self.lattice.site_energy(i, j, self.params)\n",
        "        self.lattice.grains[i, j] = s_new\n",
        "        E_after = self.lattice.site_energy(i, j, self.params)\n",
        "        delta_E = E_after - E_before\n",
        "        if delta_E > 0 and self.rng.random() > np.exp(-delta_E / (self.params['k_B'] * self.params['T'])):\n",
        "            self.lattice.grains[i, j] = s_old  # reject\n",
        "\n",
        "    def solute_swap_move(self):\n",
        "        L = self.lattice.L\n",
        "        i1, j1 = self.rng.integers(0, L, size=2)\n",
        "        i2, j2 = self.rng.integers(0, L, size=2)\n",
        "        if self.lattice.is_solute[i1, j1] == self.lattice.is_solute[i2, j2]:\n",
        "            return\n",
        "        E_before = self.lattice.site_energy(i1, j1, self.params) + self.lattice.site_energy(i2, j2, self.params)\n",
        "        self.lattice.is_solute[i1, j1], self.lattice.is_solute[i2, j2] = self.lattice.is_solute[i2, j2], self.lattice.is_solute[i1, j1]\n",
        "        E_after = self.lattice.site_energy(i1, j1, self.params) + self.lattice.site_energy(i2, j2, self.params)\n",
        "        delta_E = E_after - E_before\n",
        "        if delta_E > 0 and self.rng.random() > np.exp(-delta_E / (self.params['k_B'] * self.params['T'])):\n",
        "            # reject\n",
        "            self.lattice.is_solute[i1, j1], self.lattice.is_solute[i2, j2] = self.lattice.is_solute[i2, j2], self.lattice.is_solute[i1, j1]\n"
      ],
      "metadata": {
        "id": "CJ3RJ0BeN34x"
      },
      "execution_count": null,
      "outputs": []
    },
    {
      "cell_type": "markdown",
      "source": [
        "This code runs the simulation. Be prepared for it to take a few minutes."
      ],
      "metadata": {
        "id": "x_qN8H8ituMV"
      }
    },
    {
      "cell_type": "code",
      "source": [
        "# === Initialize Lattice and Simulator ===\n",
        "lattice = PolycrystalLattice(L, n_orient, X_B, rng)\n",
        "mc_sim = GrainBoundaryMC(lattice, params, rng)\n",
        "\n",
        "# === Data Tracking ===\n",
        "n_sweeps = 1000\n",
        "gb_fractions = []\n",
        "solute_gb_fractions = []\n",
        "avg_grain_sizes = []\n",
        "snapshots = [0, 9, 99, 499, n_sweeps-1]\n",
        "\n",
        "# === Initial Plots ===\n",
        "fig, axes = plt.subplots(1, 3, figsize=(15,5))\n",
        "lattice.plot_grains(\"Initial Grain Orientations\", ax=axes[0])\n",
        "lattice.plot_solute(\"Initial Solute Distribution\", ax=axes[1])\n",
        "lattice.plot_overlay(\"Initial Overlay\", ax=axes[2])\n",
        "plt.tight_layout()\n",
        "plt.show()\n",
        "\n",
        "# === Monte Carlo Sweeps ===\n",
        "for sweep in range(n_sweeps):\n",
        "    mc_sim.mc_sweep()\n",
        "    gb_fractions.append(lattice.grain_boundary_fraction())\n",
        "    solute_gb_fractions.append(lattice.solute_gb_fraction())\n",
        "    avg_grain_sizes.append(lattice.average_grain_size())\n",
        "    if sweep in snapshots:\n",
        "        fig, axes = plt.subplots(1, 3, figsize=(15,5))\n",
        "        lattice.plot_grains(f\"Grain Orientations: Step {sweep+1}\", ax=axes[0])\n",
        "        lattice.plot_solute(f\"Solute Distribution: Step {sweep+1}\", ax=axes[1])\n",
        "        lattice.plot_overlay(f\"Overlay: Step {sweep+1}\", ax=axes[2])\n",
        "        plt.tight_layout()\n",
        "        plt.show()\n",
        "\n",
        "# === Final Plot ===\n",
        "plt.figure(figsize=(8,5))\n",
        "plt.plot(gb_fractions, label=\"Grain Boundary Fraction\")\n",
        "plt.plot(solute_gb_fractions, label=\"Solute @ GB Fraction\")\n",
        "plt.plot(np.array(avg_grain_sizes)/(L*L), label=\"Avg Grain Size (fraction)\")\n",
        "plt.xlabel(\"MC Sweep\")\n",
        "plt.ylabel(\"Fraction / Normalized Size\")\n",
        "plt.title(\"Microstructural Evolution\")\n",
        "plt.grid(True)\n",
        "plt.legend()\n",
        "plt.tight_layout()\n",
        "plt.show()"
      ],
      "metadata": {
        "id": "9MF11tyDN80_"
      },
      "execution_count": null,
      "outputs": []
    },
    {
      "cell_type": "markdown",
      "source": [
        "**Question 7**: What happens to the fraction of solute atoms located at grain boundaries as the simulation runs? How does this behavior depend on the value (sign and magnitude) of the segregation energy (ΔH_{seg})?\n",
        "\n",
        "\n",
        "---\n",
        "\n",
        "\n",
        "**Question 8**: How does changing the mixing enthalpy parameter (ΔH_{mix}) alter the equilibrium microstructure?\n",
        "\n",
        "\n",
        "---\n",
        "\n",
        "\n",
        "**Question 9**: How does raising or lowering the temperature (T) impact the balance between grain growth and solute segregation? Relate your observations to the role of thermal fluctuations in overcoming energy barriers.\n",
        "\n",
        "\n",
        "---\n",
        "\n",
        "\n",
        "**Question 10**: Under what conditions (values of ΔH_{seg}, ΔH_{mix}, T) did you observe the alloy maintaining a stable fine-grained structure?"
      ],
      "metadata": {
        "id": "YrQTRw9vuDZx"
      }
    }
  ]
}